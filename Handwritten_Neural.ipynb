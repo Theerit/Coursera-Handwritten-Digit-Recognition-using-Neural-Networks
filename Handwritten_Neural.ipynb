{
 "cells": [
  {
   "cell_type": "markdown",
   "metadata": {},
   "source": [
    "# Hand Written Digit Recognition using Neural Networks"
   ]
  },
  {
   "cell_type": "markdown",
   "metadata": {},
   "source": [
    "This notebook is created in attemp to participate in a coursera challenge. The data is availble on kaggle.\n"
   ]
  },
  {
   "cell_type": "markdown",
   "metadata": {},
   "source": [
    "As usual, import all neccasary stuff into the notebook."
   ]
  },
  {
   "cell_type": "code",
   "execution_count": 1,
   "metadata": {
    "collapsed": false
   },
   "outputs": [
    {
     "name": "stderr",
     "output_type": "stream",
     "text": [
      "/Users/theerit/anaconda/envs/ipykernel_py2/lib/python2.7/site-packages/IPython/html.py:14: ShimWarning: The `IPython.html` package has been deprecated. You should import from `notebook` instead. `IPython.html.widgets` has moved to `ipywidgets`.\n",
      "  \"`IPython.html.widgets` has moved to `ipywidgets`.\", ShimWarning)\n"
     ]
    }
   ],
   "source": [
    "%matplotlib inline \n",
    "import requests \n",
    "import StringIO\n",
    "import zipfile\n",
    "import numpy as np\n",
    "import pandas as pd # pandas\n",
    "import matplotlib.pyplot as plt # module for plotting \n",
    "\n",
    "# If this module is not already installed, you may need to install it. \n",
    "# You can do this by typing 'pip install seaborn' in the command line\n",
    "import seaborn as sns \n",
    "\n",
    "import sklearn.model_selection"
   ]
  },
  {
   "cell_type": "markdown",
   "metadata": {},
   "source": [
    "First, I will start by loading the data in panda dataframe and do some EDA."
   ]
  },
  {
   "cell_type": "code",
   "execution_count": 16,
   "metadata": {
    "collapsed": false
   },
   "outputs": [
    {
     "name": "stdout",
     "output_type": "stream",
     "text": [
      "((42000, 785), (28000, 784))\n"
     ]
    }
   ],
   "source": [
    "train = pd.read_csv('Train.csv')\n",
    "test = pd.read_csv('Test.csv')\n",
    "print(train.shape,test.shape)"
   ]
  },
  {
   "cell_type": "markdown",
   "metadata": {},
   "source": [
    "It appears that the test data has no label and seems to serve submission function. Cross validation and model evaluation will be done based on the data provided in Train.csv file only.\n",
    "Next, split the train,test dataframe into X and Y dataframe where X store the data while Y store the label."
   ]
  },
  {
   "cell_type": "code",
   "execution_count": 17,
   "metadata": {
    "collapsed": false
   },
   "outputs": [],
   "source": [
    "X = train.copy()\n",
    "X = X.drop('label',axis=1)\n",
    "Y = pd.DataFrame(train['label'])"
   ]
  },
  {
   "cell_type": "code",
   "execution_count": 18,
   "metadata": {
    "collapsed": false
   },
   "outputs": [
    {
     "name": "stdout",
     "output_type": "stream",
     "text": [
      "((42000, 784), (42000, 1))\n"
     ]
    }
   ],
   "source": [
    "print(X.shape,Y.shape)"
   ]
  },
  {
   "cell_type": "markdown",
   "metadata": {},
   "source": [
    "Lets take a look at class distribution, the distribution is quite uniform so the problem may not need to be treated as imbalance dataset."
   ]
  },
  {
   "cell_type": "code",
   "execution_count": 19,
   "metadata": {
    "collapsed": false
   },
   "outputs": [
    {
     "data": {
      "image/png": "[encoded data removed]",
      "text/plain": [
       "<matplotlib.figure.Figure at 0x1168b1a90>"
      ]
     },
     "metadata": {},
     "output_type": "display_data"
    }
   ],
   "source": [
    "#Y_dist=pd.DataFrame(Y.label.value_counts())\n",
    "#Y_dist = Y_dist.reset_index()\n",
    "#Y_dist.columns = ['label','count']\n",
    "#Y_dist = Y_dist.set_index('label').sort_index().reset_index()\n",
    "sns.distplot(Y);"
   ]
  },
  {
   "cell_type": "markdown",
   "metadata": {},
   "source": [
    "Split the data accordingly, test set of 40%"
   ]
  },
  {
   "cell_type": "code",
   "execution_count": 20,
   "metadata": {
    "collapsed": false
   },
   "outputs": [
    {
     "name": "stdout",
     "output_type": "stream",
     "text": [
      "((25200, 784), (25200, 1))\n",
      "((16800, 784), (16800, 1))\n"
     ]
    }
   ],
   "source": [
    "X_train, X_test,Y_train, Y_test = sklearn.model_selection.train_test_split(X, Y, test_size=0.4)\n",
    "print(X_train.shape,Y_train.shape)\n",
    "print(X_test.shape,Y_test.shape)"
   ]
  },
  {
   "cell_type": "markdown",
   "metadata": {},
   "source": [
    "Import and play around with basic neural network using neupy library. Starting with only one layer first."
   ]
  },
  {
   "cell_type": "markdown",
   "metadata": {},
   "source": [
    "Change the format of the data to be compatible with neupy library"
   ]
  },
  {
   "cell_type": "code",
   "execution_count": 21,
   "metadata": {
    "collapsed": false
   },
   "outputs": [],
   "source": [
    "from sklearn.preprocessing import OneHotEncoder\n",
    "X_train = X_train/255.\n",
    "X_train = X_train - X_train.mean(axis=0)\n",
    "target_scaler = OneHotEncoder()\n",
    "Y_train = target_scaler.fit_transform(Y_train.values.reshape((-1, 1)))\n",
    "Y_train = Y_train.todense()"
   ]
  },
  {
   "cell_type": "code",
   "execution_count": 22,
   "metadata": {
    "collapsed": true
   },
   "outputs": [],
   "source": [
    "from sklearn.preprocessing import OneHotEncoder\n",
    "X = X/255.\n",
    "X = X - X.mean(axis=0)\n",
    "target_scaler = OneHotEncoder()\n",
    "Y = target_scaler.fit_transform(Y.values.reshape((-1, 1)))\n",
    "Y = Y.todense()"
   ]
  },
  {
   "cell_type": "markdown",
   "metadata": {},
   "source": [
    "Check the format"
   ]
  },
  {
   "cell_type": "code",
   "execution_count": 23,
   "metadata": {
    "collapsed": false
   },
   "outputs": [
    {
     "name": "stdout",
     "output_type": "stream",
     "text": [
      "((25200, 784), (25200, 10))\n"
     ]
    }
   ],
   "source": [
    "print(X_train.shape,Y_train.shape)"
   ]
  },
  {
   "cell_type": "code",
   "execution_count": 24,
   "metadata": {
    "collapsed": false
   },
   "outputs": [
    {
     "name": "stdout",
     "output_type": "stream",
     "text": [
      "((42000, 784), (42000, 10))\n"
     ]
    }
   ],
   "source": [
    "print(X.shape,Y.shape)"
   ]
  },
  {
   "cell_type": "code",
   "execution_count": 25,
   "metadata": {
    "collapsed": true
   },
   "outputs": [],
   "source": [
    "import theano\n",
    "theano.config.floatX = 'float32'"
   ]
  },
  {
   "cell_type": "markdown",
   "metadata": {},
   "source": [
    "Start one layer neural network training, using adam as back propogation technique."
   ]
  },
  {
   "cell_type": "code",
   "execution_count": 10,
   "metadata": {
    "collapsed": true
   },
   "outputs": [
    {
     "name": "stdout",
     "output_type": "stream",
     "text": [
      "\n",
      "Main information\n",
      "\n",
      "[ALGORITHM] Adamax\n",
      "\n",
      "[OPTION] batch_size = 128\n",
      "[OPTION] verbose = True\n",
      "[OPTION] epoch_end_signal = None\n",
      "[OPTION] show_epoch = 1\n",
      "[OPTION] shuffle_data = True\n",
      "[OPTION] train_end_signal = None\n",
      "[OPTION] error = categorical_crossentropy\n",
      "[OPTION] addons = None\n",
      "[OPTION] beta1 = 0.9\n",
      "[OPTION] beta2 = 0.999\n",
      "[OPTION] epsilon = 1e-08\n",
      "[OPTION] step = 0.001\n",
      "\n",
      "[THEANO] Initializing Theano variables and functions.\n",
      "[THEANO] Initialization finished successfully. It took 8.77 seconds\n",
      "\n",
      "Network's architecture\n",
      "\n",
      "-----------------------------------------------\n",
      "| # | Input shape | Layer Type | Output shape |\n",
      "-----------------------------------------------\n",
      "| 1 | 784         | Input      | 784          |\n",
      "| 2 | 784         | Relu       | 500          |\n",
      "| 3 | 500         | Softmax    | 10           |\n",
      "-----------------------------------------------\n",
      "\n",
      "\n",
      "Start training\n",
      "\n",
      "[TRAINING DATA] shapes: (25200, 784)\n",
      "[TRAINING] Total epochs: 100\n",
      "\n",
      "------------------------------------------------\n",
      "| Epoch # | Train err | Valid err | Time       |\n",
      "------------------------------------------------\n",
      "| 1       | 0.2648    | -         | 2.1 sec    |                                       \n",
      "| 2       | 0.07905   | -         | 1.8 sec    |                                       \n",
      "| 3       | 0.04822   | -         | 1.8 sec    |                                       \n",
      "| 4       | 0.03326   | -         | 1.9 sec    |                                       \n",
      "| 5       | 0.02451   | -         | 1.9 sec    |                                       \n",
      "| 6       | 0.01884   | -         | 1.8 sec    |                                       \n",
      "| 7       | 0.01474   | -         | 1.8 sec    |                                       \n",
      "| 8       | 0.01186   | -         | 1.8 sec    |                                       \n",
      "| 9       | 0.009664  | -         | 1.9 sec    |                                       \n",
      "| 10      | 0.00781   | -         | 1.8 sec    |                                       \n",
      "| 11      | 0.006504  | -         | 1.8 sec    |                                       \n",
      "| 12      | 0.0053    | -         | 1.9 sec    |                                       \n",
      "| 13      | 0.0045    | -         | 1.8 sec    |                                       \n",
      "| 14      | 0.003802  | -         | 1.9 sec    |                                       \n",
      "| 15      | 0.003156  | -         | 1.8 sec    |                                       \n",
      "| 16      | 0.002677  | -         | 1.9 sec    |                                       \n",
      "| 17      | 0.002246  | -         | 1.8 sec    |                                       \n",
      "| 18      | 0.001906  | -         | 1.9 sec    |                                       \n",
      "| 19      | 0.001573  | -         | 1.8 sec    |                                       \n",
      "| 20      | 0.001326  | -         | 1.9 sec    |                                       \n",
      "| 21      | 0.001129  | -         | 1.9 sec    |                                       \n",
      "| 22      | 0.0009632 | -         | 1.9 sec    |                                       \n",
      "| 23      | 0.0008301 | -         | 1.8 sec    |                                       \n",
      "| 24      | 0.0006818 | -         | 1.8 sec    |                                       \n",
      "| 25      | 0.0005704 | -         | 2.0 sec    |                                       \n",
      "| 26      | 0.0004788 | -         | 2.2 sec    |                                       \n",
      "| 27      | 0.0004079 | -         | 1.8 sec    |                                       \n",
      "| 28      | 0.0003447 | -         | 1.8 sec    |                                       \n",
      "| 29      | 0.000296  | -         | 1.9 sec    |                                       \n",
      "| 30      | 0.0002485 | -         | 1.8 sec    |                                       \n",
      "| 31      | 0.0002051 | -         | 1.9 sec    |                                       \n",
      "| 32      | 0.0001767 | -         | 1.9 sec    |                                       \n",
      "| 33      | 0.0001495 | -         | 1.9 sec    |                                       \n",
      "| 34      | 0.0001247 | -         | 1.8 sec    |                                       \n",
      "| 35      | 0.0001058 | -         | 1.9 sec    |                                       \n",
      "| 36      | 9.003e-05 | -         | 2.2 sec    |                                       \n",
      "| 37      | 7.49e-05  | -         | 2.4 sec    |                                       \n",
      "| 38      | 6.317e-05 | -         | 2.7 sec    |                                       \n",
      "| 39      | 5.319e-05 | -         | 2.6 sec    |                                       \n",
      "| 40      | 4.459e-05 | -         | 2.3 sec    |                                       \n",
      "| 41      | 3.755e-05 | -         | 2.2 sec    |                                       \n",
      "| 42      | 3.213e-05 | -         | 3.0 sec    |                                       \n",
      "| 43      | 2.67e-05  | -         | 2.7 sec    |                                       \n",
      "| 44      | 2.215e-05 | -         | 3.2 sec    |                                       \n",
      "| 45      | 1.919e-05 | -         | 2.4 sec    |                                       \n",
      "| 46      | 1.594e-05 | -         | 2.1 sec    |                                       \n",
      "| 47      | 1.309e-05 | -         | 2.1 sec    |                                       \n",
      "| 48      | 1.132e-05 | -         | 2.0 sec    |                                       \n",
      "| 49      | 9.17e-06  | -         | 2.2 sec    |                                       \n",
      "| 50      | 7.805e-06 | -         | 2.4 sec    |                                       \n",
      "| 51      | 6.506e-06 | -         | 2.1 sec    |                                       \n",
      "| 52      | 5.729e-06 | -         | 2.2 sec    |                                       \n",
      "| 53      | 4.817e-06 | -         | 1.9 sec    |                                       \n",
      "| 54      | 4.096e-06 | -         | 2.0 sec    |                                       \n",
      "| 55      | 3.18e-06  | -         | 2.0 sec    |                                       \n",
      "| 56      | 2.698e-06 | -         | 1.8 sec    |                                       \n",
      "| 57      | 2.34e-06  | -         | 1.9 sec    |                                       \n",
      "| 58      | 2.029e-06 | -         | 2.0 sec    |                                       \n",
      "| 59      | 1.697e-06 | -         | 2.0 sec    |                                       \n",
      "| 60      | 1.457e-06 | -         | 2.0 sec    |                                       \n",
      "| 61      | 1.235e-06 | -         | 2.1 sec    |                                       \n",
      "| 62      | 1.041e-06 | -         | 2.5 sec    |                                       \n",
      "| 63      | 8.827e-07 | -         | 2.1 sec    |                                       \n",
      "| 64      | 7.838e-07 | -         | 1.8 sec    |                                       \n",
      "| 65      | 6.459e-07 | -         | 1.9 sec    |                                       \n",
      "| 66      | 5.681e-07 | -         | 1.8 sec    |                                       \n",
      "| 67      | 4.843e-07 | -         | 1.9 sec    |                                       \n",
      "| 68      | 4.269e-07 | -         | 1.8 sec    |                                       \n",
      "| 69      | 3.702e-07 | -         | 1.8 sec    |                                       \n",
      "| 70      | 3.23e-07  | -         | 1.7 sec    |                                       \n",
      "| 71      | 2.92e-07  | -         | 1.8 sec    |                                       \n",
      "| 72      | 2.729e-07 | -         | 1.9 sec    |                                       \n",
      "| 73      | 2.318e-07 | -         | 2.0 sec    |                                       \n",
      "| 74      | 2.14e-07  | -         | 1.9 sec    |                                       \n",
      "| 75      | 1.994e-07 | -         | 2.4 sec    |                                       \n",
      "| 76      | 1.853e-07 | -         | 2.1 sec    |                                       \n",
      "| 77      | 1.739e-07 | -         | 2.2 sec    |                                       \n",
      "| 78      | 1.648e-07 | -         | 1.9 sec    |                                       \n",
      "| 79      | 1.554e-07 | -         | 1.9 sec    |                                       \n",
      "| 80      | 1.497e-07 | -         | 1.8 sec    |                                       \n",
      "| 81      | 1.441e-07 | -         | 2.0 sec    |                                       \n",
      "| 82      | 1.39e-07  | -         | 2.0 sec    |                                       \n",
      "| 83      | 1.357e-07 | -         | 1.8 sec    |                                       \n",
      "| 84      | 1.327e-07 | -         | 1.8 sec    |                                       \n",
      "| 85      | 1.301e-07 | -         | 1.8 sec    |                                       \n",
      "| 86      | 1.276e-07 | -         | 1.9 sec    |                                       \n",
      "| 87      | 1.261e-07 | -         | 1.8 sec    |                                       \n",
      "| 88      | 1.245e-07 | -         | 1.9 sec    |                                       \n",
      "| 89      | 1.236e-07 | -         | 1.8 sec    |                                       \n",
      "| 90      | 1.227e-07 | -         | 1.9 sec    |                                       \n",
      "| 91      | 1.22e-07  | -         | 1.9 sec    |                                       \n",
      "| 92      | 1.215e-07 | -         | 2.7 sec    |                                       \n",
      "| 93      | 1.21e-07  | -         | 2.0 sec    |                                       \n",
      "| 94      | 1.207e-07 | -         | 2.3 sec    |                                       \n",
      "| 95      | 1.203e-07 | -         | 2.2 sec    |                                       \n",
      "| 96      | 1.201e-07 | -         | 2.2 sec    |                                       \n",
      "| 97      | 1.199e-07 | -         | 1.9 sec    |                                       \n",
      "| 98      | 1.198e-07 | -         | 1.8 sec    |                                       \n",
      "| 99      | 1.197e-07 | -         | 1.8 sec    |                                       \n",
      "| 100     | 1.196e-07 | -         | 2.1 sec    |                                       \n",
      "------------------------------------------------\n",
      "\n"
     ]
    }
   ],
   "source": [
    "from neupy import algorithms, layers\n",
    "network = algorithms.Adamax([layers.Input(784),layers.Relu(500),layers.Softmax(10)],\\\n",
    "                          error='categorical_crossentropy',step = 0.001,verbose=True,\\\n",
    "                          shuffle_data=True,epsilon = 10**-8,beta1=0.9,beta2=0.999)\n",
    "network.architecture()\n",
    "network.train(X_train,Y_train,epochs=100)"
   ]
  },
  {
   "cell_type": "code",
   "execution_count": 11,
   "metadata": {
    "collapsed": true
   },
   "outputs": [
    {
     "data": {
      "image/png": "[encoded data removed]",
      "text/plain": [
       "<matplotlib.figure.Figure at 0x120f9f5d0>"
      ]
     },
     "metadata": {},
     "output_type": "display_data"
    },
    {
     "data": {
      "text/plain": [
       "<matplotlib.axes._subplots.AxesSubplot at 0x12304be50>"
      ]
     },
     "execution_count": 11,
     "metadata": {},
     "output_type": "execute_result"
    }
   ],
   "source": [
    "from neupy import plots\n",
    "plots.error_plot(network)"
   ]
  },
  {
   "cell_type": "markdown",
   "metadata": {},
   "source": [
    "Adamax back propogation seems to do good job training with 100 epoch. This will be basic information that I will use later."
   ]
  },
  {
   "cell_type": "code",
   "execution_count": 15,
   "metadata": {
    "collapsed": false
   },
   "outputs": [
    {
     "name": "stdout",
     "output_type": "stream",
     "text": [
      "[master 83cf354] Add code to implement CV with hyperopt PZE\n",
      " 1 file changed, 318 insertions(+), 7 deletions(-)\n"
     ]
    },
    {
     "name": "stderr",
     "output_type": "stream",
     "text": [
      "To github.com:Theerit/Coursera-Handwritten-Digit-Recognition-using-Neural-Networks.git\n",
      "   3451343..83cf354  master -> master\n"
     ]
    }
   ],
   "source": [
    "%%bash\n",
    "git add Handwritten_Neural.ipynb\n",
    "git commit -m 'Add code to implement CV with hyperopt PZE'\n",
    "git push"
   ]
  },
  {
   "cell_type": "markdown",
   "metadata": {},
   "source": [
    "Use all available data in X and Y array to train with CV."
   ]
  },
  {
   "cell_type": "code",
   "execution_count": 61,
   "metadata": {
    "collapsed": false
   },
   "outputs": [],
   "source": [
    "from sklearn.model_selection import KFold\n",
    "kf = KFold(5)\n",
    "kf.get_n_splits(X)\n",
    "for train_index, test_index in kf.split(X):\n",
    "    #print(\"TRAIN:\", train_index, \"TEST:\", test_index)\n",
    "    X_train_T = X.loc[train_index]\n",
    "    X_CV = X.loc[test_index]\n",
    "    Y_train_T = Y[train_index]\n",
    "    Y_CV = Y[test_index]\n",
    "    from neupy import algorithms, layers\n",
    "    network = algorithms.Adamax([layers.Input(784),layers.Relu(500),layers.Softmax(10)],\\\n",
    "                          error='categorical_crossentropy',step = 0.001,verbose=False,\\\n",
    "                          shuffle_data=True)\n",
    "    network.architecture()\n",
    "    network.train(X_train_T,Y_train_T,X_CV,Y_CV,epochs=50)"
   ]
  },
  {
   "cell_type": "markdown",
   "metadata": {
    "collapsed": true
   },
   "source": [
    "Try hyperparameter optimization on one hidden layer first with the use of PZE."
   ]
  },
  {
   "cell_type": "code",
   "execution_count": null,
   "metadata": {
    "collapsed": true
   },
   "outputs": [],
   "source": [
    "from pprint import pprint\n",
    "from functools import partial\n",
    "\n",
    "import theano\n",
    "import numpy as np\n",
    "from sklearn import model_selection, datasets, preprocessing, metrics\n",
    "import hyperopt\n",
    "from hyperopt import hp\n",
    "from neupy import algorithms, layers, environment\n",
    "from neupy.exceptions import StopTraining\n",
    "\n",
    "theano.config.floatX = 'float32'\n",
    "\n",
    "def on_epoch_end(network):\n",
    "    if network.errors.last() > 10:\n",
    "        raise StopTraining(\"Training was interrupted. Error is to high.\")\n",
    "\n",
    "def train_network(parameters):\n",
    "    print(\"Parameters:\")\n",
    "    pprint(parameters)\n",
    "    print()\n",
    "\n",
    "    step = parameters['step']\n",
    "    batch_size = int(parameters['batch_size'])\n",
    "    proba = parameters['dropout']\n",
    "    activation_layer = parameters['act_func_type']\n",
    "    layer_sizes = [int(n) for n in parameters['layers']['n_units_layer']]\n",
    "    \n",
    "    network = layers.Input(784)\n",
    "\n",
    "    for layer_size in layer_sizes:\n",
    "        network = network > activation_layer(layer_size)\n",
    "\n",
    "    network = network > layers.Dropout(proba) > layers.Softmax(10)\n",
    "    \n",
    "    mnet = algorithms.RMSProp(\n",
    "        network,\n",
    "\n",
    "        batch_size=batch_size,\n",
    "        step=step,\n",
    "        \n",
    "        error='categorical_crossentropy',\n",
    "        shuffle_data=True,\n",
    "        \n",
    "        epoch_end_signal=on_epoch_end,\n",
    "    )\n",
    "    \n",
    "    X_train_T, X_train_CV, Y_train_T, Y_Test_CV = sklearn.model_selection.train_test_split()\n",
    "    mnet.train(X_train, Y_train, epochs=50)\n",
    "    \n",
    "    score = mnet.prediction_error(x_test, y_test)\n",
    "    \n",
    "    y_predicted = mnet.predict(x_test).argmax(axis=1)\n",
    "    accuracy = metrics.accuracy_score(y_test.argmax(axis=1), y_predicted)\n",
    "    \n",
    "    print(\"Final score: {}\".format(score))\n",
    "    print(\"Accuracy: {:.2%}\".format(accuracy))\n",
    "\n",
    "    return score"
   ]
  },
  {
   "cell_type": "code",
   "execution_count": null,
   "metadata": {
    "collapsed": true
   },
   "outputs": [],
   "source": [
    "def uniform_int(name, lower, upper):\n",
    "    # `quniform` returns:\n",
    "    # round(uniform(low, high) / q) * q\n",
    "    return hp.quniform(name, lower, upper, q=1)\n",
    "\n",
    "def loguniform_int(name, lower, upper):\n",
    "    # Do not forget to make a logarithm for the\n",
    "    # lower and upper bounds.\n",
    "    return hp.qloguniform(name, np.log(lower), np.log(upper), q=1)"
   ]
  },
  {
   "cell_type": "code",
   "execution_count": null,
   "metadata": {
    "collapsed": true
   },
   "outputs": [],
   "source": [
    "environment.reproducible()\n",
    "# Object stores all information about each trial.\n",
    "# Also, it stores information about the best trial.\n",
    "trials = hyperopt.Trials()\n",
    "\n",
    "parameter_space = {\n",
    "    'step': hp.uniform('step', 0.01, 0.5),\n",
    "    'layers': hp.choice('layers', [{\n",
    "        'n_layers': 1,\n",
    "        'n_units_layer': [\n",
    "            uniform_int('n_units_layer_11', 50, 500),\n",
    "        ],\n",
    "    }, {\n",
    "        'n_layers': 2,\n",
    "        'n_units_layer': [\n",
    "            uniform_int('n_units_layer_21', 50, 500),\n",
    "            uniform_int('n_units_layer_22', 50, 500),\n",
    "        ],\n",
    "    }]),\n",
    "    'act_func_type': hp.choice('act_func_type', [\n",
    "        layers.Relu,\n",
    "        layers.PRelu,\n",
    "        layers.Elu,\n",
    "        layers.Tanh,\n",
    "        layers.Sigmoid\n",
    "    ]),\n",
    "    \n",
    "    'dropout': hp.uniform('dropout', 0, 0.5),\n",
    "    'batch_size': loguniform_int('batch_size', 16, 512),\n",
    "}"
   ]
  },
  {
   "cell_type": "code",
   "execution_count": null,
   "metadata": {
    "collapsed": true
   },
   "outputs": [],
   "source": [
    "tpe = partial(\n",
    "    hyperopt.tpe.suggest,\n",
    "\n",
    "    # Sample 1000 candidate and select candidate that\n",
    "    # has highest Expected Improvement (EI)\n",
    "    n_EI_candidates=1000,\n",
    "    \n",
    "    # Use 20% of best observations to estimate next\n",
    "    # set of parameters\n",
    "    gamma=0.2,\n",
    "    \n",
    "    # First 20 trials are going to be random\n",
    "    n_startup_jobs=20,\n",
    ")\n",
    "\n",
    "hyperopt.fmin(\n",
    "    train_network,\n",
    "    trials=trials,\n",
    "    space=parameter_space,\n",
    "\n",
    "    # Set up TPE for hyperparameter optimization\n",
    "    algo=tpe,\n",
    "\n",
    "    # Maximum number of iterations. Basically it trains at\n",
    "    # most 200 networks before choose the best one.\n",
    "    max_evals=200,\n",
    ")"
   ]
  }
 ],
 "metadata": {
  "kernelspec": {
   "display_name": "Python 2",
   "language": "python",
   "name": "python2"
  },
  "language_info": {
   "codemirror_mode": {
    "name": "ipython",
    "version": 2
   },
   "file_extension": ".py",
   "mimetype": "text/x-python",
   "name": "python",
   "nbconvert_exporter": "python",
   "pygments_lexer": "ipython2",
   "version": "2.7.13"
  }
 },
 "nbformat": 4,
 "nbformat_minor": 2
}
