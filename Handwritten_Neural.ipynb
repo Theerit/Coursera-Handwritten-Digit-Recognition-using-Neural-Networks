{
 "cells": [
  {
   "cell_type": "markdown",
   "metadata": {},
   "source": [
    "# Hand Written Digit Recognition using Neural Networks"
   ]
  },
  {
   "cell_type": "markdown",
   "metadata": {},
   "source": [
    "This notebook is created in attemp to participate in a coursera challenge. The data is availble on kaggle.\n"
   ]
  },
  {
   "cell_type": "markdown",
   "metadata": {},
   "source": [
    "As usual, import all neccasary stuff into the notebook."
   ]
  },
  {
   "cell_type": "code",
   "execution_count": 2,
   "metadata": {
    "collapsed": false
   },
   "outputs": [
    {
     "name": "stderr",
     "output_type": "stream",
     "text": [
      "/Users/theerit/anaconda/envs/ipykernel_py2/lib/python2.7/site-packages/IPython/html.py:14: ShimWarning: The `IPython.html` package has been deprecated. You should import from `notebook` instead. `IPython.html.widgets` has moved to `ipywidgets`.\n",
      "  \"`IPython.html.widgets` has moved to `ipywidgets`.\", ShimWarning)\n"
     ]
    }
   ],
   "source": [
    "%matplotlib inline \n",
    "import requests \n",
    "import StringIO\n",
    "import zipfile\n",
    "import numpy as np\n",
    "import pandas as pd # pandas\n",
    "import matplotlib.pyplot as plt # module for plotting \n",
    "\n",
    "# If this module is not already installed, you may need to install it. \n",
    "# You can do this by typing 'pip install seaborn' in the command line\n",
    "import seaborn as sns \n",
    "\n",
    "import sklearn.model_selection"
   ]
  },
  {
   "cell_type": "markdown",
   "metadata": {},
   "source": [
    "First, I will start by loading the data in panda dataframe and do some EDA."
   ]
  },
  {
   "cell_type": "code",
   "execution_count": 3,
   "metadata": {
    "collapsed": false
   },
   "outputs": [
    {
     "name": "stdout",
     "output_type": "stream",
     "text": [
      "((42000, 785), (28000, 784))\n"
     ]
    }
   ],
   "source": [
    "train = pd.read_csv('Train.csv')\n",
    "test = pd.read_csv('Test.csv')\n",
    "print(train.shape,test.shape)"
   ]
  },
  {
   "cell_type": "markdown",
   "metadata": {},
   "source": [
    "It appears that the test data has no label and seems to serve submission function. Cross validation and model evaluation will be done based on the data provided in Train.csv file only.\n",
    "Next, split the train,test dataframe into X and Y dataframe where X store the data while Y store the label."
   ]
  },
  {
   "cell_type": "code",
   "execution_count": 4,
   "metadata": {
    "collapsed": false
   },
   "outputs": [],
   "source": [
    "X = train.copy()\n",
    "X = X.drop('label',axis=1)\n",
    "Y = pd.DataFrame(train['label'])"
   ]
  },
  {
   "cell_type": "code",
   "execution_count": 5,
   "metadata": {
    "collapsed": false
   },
   "outputs": [
    {
     "name": "stdout",
     "output_type": "stream",
     "text": [
      "((42000, 784), (42000, 1))\n"
     ]
    }
   ],
   "source": [
    "print(X.shape,Y.shape)"
   ]
  },
  {
   "cell_type": "markdown",
   "metadata": {},
   "source": [
    "Lets take a look at class distribution, the distribution is quite uniform so the problem may not need to be treated as imbalance dataset."
   ]
  },
  {
   "cell_type": "code",
   "execution_count": 6,
   "metadata": {
    "collapsed": false
   },
   "outputs": [
    {
     "data": {
      "image/png": "[encoded data removed]",
      "text/plain": [
       "<matplotlib.figure.Figure at 0x110e87110>"
      ]
     },
     "metadata": {},
     "output_type": "display_data"
    }
   ],
   "source": [
    "#Y_dist=pd.DataFrame(Y.label.value_counts())\n",
    "#Y_dist = Y_dist.reset_index()\n",
    "#Y_dist.columns = ['label','count']\n",
    "#Y_dist = Y_dist.set_index('label').sort_index().reset_index()\n",
    "sns.distplot(Y);"
   ]
  },
  {
   "cell_type": "markdown",
   "metadata": {},
   "source": [
    "Split the data accordingly, test set of 40%"
   ]
  },
  {
   "cell_type": "code",
   "execution_count": 7,
   "metadata": {
    "collapsed": false
   },
   "outputs": [
    {
     "name": "stdout",
     "output_type": "stream",
     "text": [
      "((25200, 784), (25200, 1))\n",
      "((16800, 784), (16800, 1))\n"
     ]
    }
   ],
   "source": [
    "X_train, X_test,Y_train, Y_test = sklearn.model_selection.train_test_split(X, Y, test_size=0.4)\n",
    "print(X_train.shape,Y_train.shape)\n",
    "print(X_test.shape,Y_test.shape)"
   ]
  },
  {
   "cell_type": "markdown",
   "metadata": {},
   "source": [
    "Import and play around with basic neural network using neupy library. Starting with only one layer first."
   ]
  },
  {
   "cell_type": "markdown",
   "metadata": {},
   "source": [
    "Change the format of the data to be compatible with neupy library"
   ]
  },
  {
   "cell_type": "code",
   "execution_count": 9,
   "metadata": {
    "collapsed": false
   },
   "outputs": [],
   "source": [
    "from sklearn.preprocessing import OneHotEncoder\n",
    "X_train = X_train/255.\n",
    "X_train = X_train - X_train.mean(axis=0)\n",
    "target_scaler = OneHotEncoder()\n",
    "Y_train = target_scaler.fit_transform(Y_train.values.reshape((-1, 1)))\n",
    "Y_train = Y_train.todense()"
   ]
  },
  {
   "cell_type": "markdown",
   "metadata": {},
   "source": [
    "Check the format"
   ]
  },
  {
   "cell_type": "code",
   "execution_count": 14,
   "metadata": {
    "collapsed": false
   },
   "outputs": [
    {
     "name": "stdout",
     "output_type": "stream",
     "text": [
      "((25200, 784), (25200, 10))\n"
     ]
    }
   ],
   "source": [
    "print(X_train.shape,Y_train.shape)"
   ]
  },
  {
   "cell_type": "code",
   "execution_count": 15,
   "metadata": {
    "collapsed": true
   },
   "outputs": [],
   "source": [
    "import theano\n",
    "theano.config.floatX = 'float32'"
   ]
  },
  {
   "cell_type": "markdown",
   "metadata": {},
   "source": [
    "Start one layer neural network training, using adam as back propogation technique."
   ]
  },
  {
   "cell_type": "code",
   "execution_count": 41,
   "metadata": {
    "collapsed": false
   },
   "outputs": [
    {
     "name": "stdout",
     "output_type": "stream",
     "text": [
      "\n",
      "Main information\n",
      "\n",
      "[ALGORITHM] Adamax\n",
      "\n",
      "[OPTION] batch_size = 128\n",
      "[OPTION] verbose = True\n",
      "[OPTION] epoch_end_signal = None\n",
      "[OPTION] show_epoch = 1\n",
      "[OPTION] shuffle_data = True\n",
      "[OPTION] train_end_signal = None\n",
      "[OPTION] error = categorical_crossentropy\n",
      "[OPTION] addons = None\n",
      "[OPTION] beta1 = 0.9\n",
      "[OPTION] beta2 = 0.999\n",
      "[OPTION] epsilon = 1e-08\n",
      "[OPTION] step = 0.001\n",
      "\n",
      "[THEANO] Initializing Theano variables and functions.\n",
      "[THEANO] Initialization finished successfully. It took 8.05 seconds\n",
      "\n",
      "Network's architecture\n",
      "\n",
      "-----------------------------------------------\n",
      "| # | Input shape | Layer Type | Output shape |\n",
      "-----------------------------------------------\n",
      "| 1 | 784         | Input      | 784          |\n",
      "| 2 | 784         | Relu       | 500          |\n",
      "| 3 | 500         | Softmax    | 10           |\n",
      "-----------------------------------------------\n",
      "\n",
      "\n",
      "Start training\n",
      "\n",
      "[TRAINING DATA] shapes: (25200, 784)\n",
      "[TRAINING] Total epochs: 100\n",
      "\n",
      "------------------------------------------------\n",
      "| Epoch # | Train err | Valid err | Time       |\n",
      "------------------------------------------------\n",
      "| 1       | 1.068     | -         | 2.5 sec    |                                       \n",
      "| 2       | 0.4277    | -         | 2.1 sec    |                                       \n",
      "| 3       | 0.371     | -         | 2.1 sec    |                                       \n",
      "| 4       | 0.3463    | -         | 4.5 sec    |                                       \n",
      "| 5       | 0.3317    | -         | 4.7 sec    |                                       \n",
      "| 6       | 0.3218    | -         | 4.4 sec    |                                       \n",
      "| 7       | 0.3148    | -         | 4.7 sec    |                                       \n",
      "| 8       | 0.3075    | -         | 4.8 sec    |                                       \n",
      "| 9       | 0.3022    | -         | 4.4 sec    |                                       \n",
      "| 10      | 0.2974    | -         | 4.4 sec    |                                       \n",
      "| 11      | 0.2935    | -         | 4.3 sec    |                                       \n",
      "| 12      | 0.2896    | -         | 4.3 sec    |                                       \n",
      "| 13      | 0.286     | -         | 4.2 sec    |                                       \n",
      "| 14      | 0.2828    | -         | 4.1 sec    |                                       \n",
      "| 15      | 0.2796    | -         | 4.1 sec    |                                       \n",
      "| 16      | 0.277     | -         | 4.2 sec    |                                       \n",
      "| 17      | 0.2742    | -         | 4.3 sec    |                                       \n",
      "| 18      | 0.2719    | -         | 4.2 sec    |                                       \n",
      "| 19      | 0.2693    | -         | 4.2 sec    |                                       \n",
      "| 20      | 0.2667    | -         | 4.2 sec    |                                       \n",
      "| 21      | 0.2645    | -         | 4.1 sec    |                                       \n",
      "| 22      | 0.262     | -         | 4.1 sec    |                                       \n",
      "| 23      | 0.2602    | -         | 4.3 sec    |                                       \n",
      "| 24      | 0.2576    | -         | 4.2 sec    |                                       \n",
      "| 25      | 0.2557    | -         | 4.4 sec    |                                       \n",
      "| 26      | 0.2536    | -         | 4.2 sec    |                                       \n",
      "| 27      | 0.2513    | -         | 4.2 sec    |                                       \n",
      "| 28      | 0.2494    | -         | 4.1 sec    |                                       \n",
      "| 29      | 0.2475    | -         | 4.2 sec    |                                       \n",
      "| 30      | 0.2453    | -         | 4.1 sec    |                                       \n",
      "| 31      | 0.2438    | -         | 4.0 sec    |                                       \n",
      "| 32      | 0.2417    | -         | 4.2 sec    |                                       \n",
      "| 33      | 0.2396    | -         | 4.4 sec    |                                       \n",
      "| 34      | 0.2381    | -         | 4.3 sec    |                                       \n",
      "| 35      | 0.2358    | -         | 4.2 sec    |                                       \n",
      "| 36      | 0.2344    | -         | 4.4 sec    |                                       \n",
      "| 37      | 0.2323    | -         | 4.3 sec    |                                       \n",
      "| 38      | 0.2305    | -         | 4.4 sec    |                                       \n",
      "| 39      | 0.229     | -         | 4.3 sec    |                                       \n",
      "| 40      | 0.2271    | -         | 4.3 sec    |                                       \n",
      "| 41      | 0.2252    | -         | 4.3 sec    |                                       \n",
      "| 42      | 0.2237    | -         | 4.3 sec    |                                       \n",
      "| 43      | 0.2221    | -         | 4.2 sec    |                                       \n",
      "| 44      | 0.2204    | -         | 4.2 sec    |                                       \n",
      "| 45      | 0.2185    | -         | 4.0 sec    |                                       \n",
      "| 46      | 0.217     | -         | 4.1 sec    |                                       \n",
      "| 47      | 0.2153    | -         | 4.0 sec    |                                       \n",
      "| 48      | 0.2137    | -         | 4.8 sec    |                                       \n",
      "| 49      | 0.2121    | -         | 5.8 sec    |                                       \n",
      "| 50      | 0.2104    | -         | 5.0 sec    |                                       \n",
      "| 51      | 0.2089    | -         | 4.7 sec    |                                       \n",
      "| 52      | 0.2073    | -         | 4.3 sec    |                                       \n",
      "| 53      | 0.2055    | -         | 4.6 sec    |                                       \n",
      "| 54      | 0.2043    | -         | 4.5 sec    |                                       \n",
      "| 55      | 0.2027    | -         | 4.4 sec    |                                       \n",
      "| 56      | 0.2012    | -         | 4.3 sec    |                                       \n",
      "| 57      | 0.1997    | -         | 4.6 sec    |                                       \n",
      "| 58      | 0.198     | -         | 5.3 sec    |                                       \n",
      "| 59      | 0.1967    | -         | 4.9 sec    |                                       \n",
      "| 60      | 0.1952    | -         | 5.1 sec    |                                       \n",
      "| 61      | 0.1937    | -         | 4.1 sec    |                                       \n",
      "| 62      | 0.1923    | -         | 6.4 sec    |                                       \n",
      "| 63      | 0.1909    | -         | 5.4 sec    |                                       \n",
      "| 64      | 0.1894    | -         | 4.6 sec    |                                       \n",
      "| 65      | 0.1879    | -         | 4.7 sec    |                                       \n",
      "| 66      | 0.1867    | -         | 5.5 sec    |                                       \n",
      "| 67      | 0.1851    | -         | 4.9 sec    |                                       \n",
      "| 68      | 0.184     | -         | 4.4 sec    |                                       \n",
      "| 69      | 0.1825    | -         | 4.3 sec    |                                       \n",
      "| 70      | 0.1812    | -         | 4.9 sec    |                                       \n",
      "| 71      | 0.1797    | -         | 4.8 sec    |                                       \n",
      "| 72      | 0.1784    | -         | 4.9 sec    |                                       \n",
      "| 73      | 0.177     | -         | 5.3 sec    |                                       \n",
      "| 74      | 0.176     | -         | 5.3 sec    |                                       \n",
      "| 75      | 0.1748    | -         | 5.3 sec    |                                       \n",
      "| 76      | 0.1733    | -         | 4.7 sec    |                                       \n",
      "| 77      | 0.1722    | -         | 4.7 sec    |                                       \n",
      "| 78      | 0.1708    | -         | 4.2 sec    |                                       \n",
      "| 79      | 0.1696    | -         | 4.5 sec    |                                       \n",
      "| 80      | 0.1684    | -         | 4.0 sec    |                                       \n",
      "| 81      | 0.1672    | -         | 4.4 sec    |                                       \n",
      "| 82      | 0.1659    | -         | 5.9 sec    |                                       \n",
      "| 83      | 0.1648    | -         | 5.8 sec    |                                       \n",
      "| 84      | 0.1635    | -         | 4.7 sec    |                                       \n",
      "| 85      | 0.1625    | -         | 4.1 sec    |                                       \n",
      "| 86      | 0.1613    | -         | 4.0 sec    |                                       \n",
      "| 87      | 0.1601    | -         | 4.0 sec    |                                       \n",
      "| 88      | 0.1591    | -         | 4.1 sec    |                                       \n",
      "| 89      | 0.1581    | -         | 4.0 sec    |                                       \n",
      "| 90      | 0.1568    | -         | 4.0 sec    |                                       \n",
      "| 91      | 0.1557    | -         | 4.1 sec    |                                       \n",
      "| 92      | 0.1546    | -         | 4.0 sec    |                                       \n",
      "| 93      | 0.1536    | -         | 4.1 sec    |                                       \n",
      "| 94      | 0.1526    | -         | 4.1 sec    |                                       \n",
      "| 95      | 0.1513    | -         | 4.6 sec    |                                       \n",
      "| 96      | 0.1503    | -         | 4.4 sec    |                                       \n",
      "| 97      | 0.1493    | -         | 4.3 sec    |                                       \n",
      "| 98      | 0.1484    | -         | 4.2 sec    |                                       \n",
      "| 99      | 0.1473    | -         | 4.1 sec    |                                       \n",
      "| 100     | 0.1464    | -         | 5.5 sec    |                                       \n",
      "------------------------------------------------\n",
      "\n"
     ]
    }
   ],
   "source": [
    "from neupy import algorithms, layers\n",
    "network = algorithms.Adamax([layers.Input(784),layers.Relu(500),layers.Softmax(10)],\\\n",
    "                          error='categorical_crossentropy',step = 0.001,verbose=True,\\\n",
    "                          shuffle_data=True,epsilon = 10**-8,beta1=0.9,beta2=0.999)\n",
    "network.architecture()\n",
    "network.train(X_train,Y_train,epochs=100)"
   ]
  },
  {
   "cell_type": "code",
   "execution_count": 42,
   "metadata": {
    "collapsed": false
   },
   "outputs": [
    {
     "data": {
      "image/png": "[encoded data removed]",
      "text/plain": [
       "<matplotlib.figure.Figure at 0x119b05150>"
      ]
     },
     "metadata": {},
     "output_type": "display_data"
    },
    {
     "data": {
      "text/plain": [
       "<matplotlib.axes._subplots.AxesSubplot at 0x119204790>"
      ]
     },
     "execution_count": 42,
     "metadata": {},
     "output_type": "execute_result"
    }
   ],
   "source": [
    "from neupy import plots\n",
    "plots.error_plot(network)"
   ]
  },
  {
   "cell_type": "code",
   "execution_count": null,
   "metadata": {
    "collapsed": true
   },
   "outputs": [],
   "source": [
    "%%bash\n",
    "git add Handwritten_Neural.ipynb\n",
    "git commit -m 'Doing basic training'\n",
    "git push"
   ]
  }
 ],
 "metadata": {
  "kernelspec": {
   "display_name": "Python 2",
   "language": "python",
   "name": "python2"
  },
  "language_info": {
   "codemirror_mode": {
    "name": "ipython",
    "version": 2
   },
   "file_extension": ".py",
   "mimetype": "text/x-python",
   "name": "python",
   "nbconvert_exporter": "python",
   "pygments_lexer": "ipython2",
   "version": "2.7.13"
  }
 },
 "nbformat": 4,
 "nbformat_minor": 2
}
